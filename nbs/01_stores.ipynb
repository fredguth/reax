{
 "cells": [
  {
   "attachments": {},
   "cell_type": "markdown",
   "metadata": {},
   "source": [
    "# stores\n",
    "\n",
    "> The `Reax` stores implementation became its own package, [Sveltish](fredguth.github.io/sveltish).  Here I use it and add some customizations for our present use case."
   ]
  },
  {
   "cell_type": "markdown",
   "metadata": {},
   "source": [
    "## Setup"
   ]
  },
  {
   "cell_type": "code",
   "execution_count": 1,
   "metadata": {},
   "outputs": [
    {
     "name": "stdout",
     "output_type": "stream",
     "text": [
      "env: XLA_PYTHON_CLIENT_MEM_FRACTION=0.2\n"
     ]
    }
   ],
   "source": [
    "#|hide\n",
    "%env XLA_PYTHON_CLIENT_MEM_FRACTION=0.2\n",
    "%load_ext autoreload\n",
    "%autoreload 2"
   ]
  },
  {
   "cell_type": "code",
   "execution_count": 2,
   "metadata": {},
   "outputs": [],
   "source": [
    "#| default_exp stores"
   ]
  },
  {
   "cell_type": "markdown",
   "metadata": {},
   "source": [
    "## Using sveltish stores"
   ]
  },
  {
   "attachments": {},
   "cell_type": "markdown",
   "metadata": {},
   "source": [
    "`Reax` uses the concept of a `Store`, an observable object to which you can subscribe to `call you back`(callback) when it changes. It [became its own package](fredguth.github.io/sveltish) where it is better documented.\n",
    "\n",
    "Here we will use it and customize it.\n",
    "\n",
    "There are 3 kinds of stores:\n",
    "- `Writable stores` have a `set` method, so you can change their value;\n",
    "- `Readable stores` are read-only (they can only be set by code given in its initialization);\n",
    "- `Derived stores` are stores whose values derive from other stores."
   ]
  },
  {
   "cell_type": "markdown",
   "metadata": {},
   "source": [
    "Example:"
   ]
  },
  {
   "cell_type": "code",
   "execution_count": 3,
   "metadata": {},
   "outputs": [],
   "source": [
    "from sveltish.stores import writable, readable, derived\n",
    "import threading\n",
    "import time"
   ]
  },
  {
   "cell_type": "code",
   "execution_count": 20,
   "metadata": {},
   "outputs": [
    {
     "data": {
      "text/plain": [
       "w<0> $int: -3"
      ]
     },
     "execution_count": 20,
     "metadata": {},
     "output_type": "execute_result"
    }
   ],
   "source": [
    "utc = writable(-3) # writable store\n",
    "utc"
   ]
  },
  {
   "cell_type": "markdown",
   "metadata": {},
   "source": [
    "Notice that the store representation is `w<0> $int: -3`, where `w<0>` stands for a writable store with 0 subscribers. The `$int` is a type hint for the store value."
   ]
  },
  {
   "cell_type": "code",
   "execution_count": 22,
   "metadata": {},
   "outputs": [
    {
     "data": {
      "text/plain": [
       "r<0> $struct_time: time.struct_time(tm_year=2023, tm_mon=3, tm_mday=8, tm_hour=15, tm_min=8, tm_sec=32, tm_wday=2, tm_yday=67, tm_isdst=0)"
      ]
     },
     "execution_count": 22,
     "metadata": {},
     "output_type": "execute_result"
    }
   ],
   "source": [
    "def publisher(set): # the start notifier function\n",
    "    stopped = threading.Event()\n",
    "    def loop(): # needs to be in a separate thread\n",
    "        while not stopped.wait(1): # in seconds\n",
    "            set(time.gmtime())\n",
    "    threading.Thread(target=loop).start()    \n",
    "    return stopped.set\n",
    "clock = readable(time.gmtime(), publisher) # readable store\n",
    "clock"
   ]
  },
  {
   "cell_type": "code",
   "execution_count": 23,
   "metadata": {},
   "outputs": [
    {
     "name": "stdout",
     "output_type": "stream",
     "text": [
      "15:08:32\n",
      "15:08:44\n",
      "15:08:45\n"
     ]
    }
   ],
   "source": [
    "stop = clock.subscribe(lambda x: print(time.strftime(f\"%H:%M:%S\", x)))\n",
    "time.sleep(2);stop()"
   ]
  },
  {
   "cell_type": "code",
   "execution_count": 24,
   "metadata": {},
   "outputs": [
    {
     "name": "stdout",
     "output_type": "stream",
     "text": [
      "12:08:45\n",
      "12:08:46\n",
      "12:08:47\n"
     ]
    }
   ],
   "source": [
    "utc_clock = derived([clock, utc], lambda clock, utc: tuple(clock)[:3] + (tuple(clock)[3]+utc,) + tuple(clock)[4:])\n",
    "stop = utc_clock.subscribe(lambda x: print(time.strftime(f\"%H:%M:%S\", x)))\n",
    "time.sleep(2);stop()"
   ]
  },
  {
   "attachments": {},
   "cell_type": "markdown",
   "metadata": {},
   "source": [
    "Another interesting aspect of `sveltish stores` is its `pipe` operator:"
   ]
  },
  {
   "cell_type": "code",
   "execution_count": 6,
   "metadata": {},
   "outputs": [
    {
     "name": "stdout",
     "output_type": "stream",
     "text": [
      "callback 1: 1\n"
     ]
    }
   ],
   "source": [
    "a =  writable(0)\n",
    "stop1 = (a| (lambda x: x+1)).subscribe(lambda x: print(f'callback 1: {x}'))"
   ]
  },
  {
   "cell_type": "code",
   "execution_count": 7,
   "metadata": {},
   "outputs": [
    {
     "name": "stdout",
     "output_type": "stream",
     "text": [
      "callback 1: 3\n"
     ]
    }
   ],
   "source": [
    "a.set(2)"
   ]
  },
  {
   "cell_type": "code",
   "execution_count": 8,
   "metadata": {},
   "outputs": [
    {
     "name": "stdout",
     "output_type": "stream",
     "text": [
      "callback 2: 9\n"
     ]
    }
   ],
   "source": [
    "stop2 = (a| (lambda x: x+1)| (lambda x: x*x) ).subscribe(lambda x: print(f'callback 2: {x}'))"
   ]
  },
  {
   "cell_type": "code",
   "execution_count": 9,
   "metadata": {},
   "outputs": [
    {
     "name": "stdout",
     "output_type": "stream",
     "text": [
      "callback 1: 2\n",
      "callback 2: 4\n",
      "callback 1: 4\n",
      "callback 2: 16\n"
     ]
    }
   ],
   "source": [
    "a.set(1)\n",
    "a.set(3)\n"
   ]
  },
  {
   "cell_type": "code",
   "execution_count": 10,
   "metadata": {},
   "outputs": [
    {
     "data": {
      "text/plain": [
       "(None, None)"
      ]
     },
     "execution_count": 10,
     "metadata": {},
     "output_type": "execute_result"
    }
   ],
   "source": [
    "stop1(), stop2()"
   ]
  },
  {
   "attachments": {},
   "cell_type": "markdown",
   "metadata": {},
   "source": [
    "## Reax custom stores"
   ]
  },
  {
   "cell_type": "code",
   "execution_count": null,
   "metadata": {},
   "outputs": [],
   "source": []
  },
  {
   "cell_type": "code",
   "execution_count": 11,
   "metadata": {},
   "outputs": [],
   "source": [
    "#|export\n",
    "from sveltish.stores import writable, StoreProtocol, Subscriber, Unsubscriber, Readable, Writable"
   ]
  },
  {
   "cell_type": "code",
   "execution_count": 12,
   "metadata": {},
   "outputs": [],
   "source": [
    "#|export\n",
    "class Mutable(Writable):\n",
    "    def __init__(self, **kw):\n",
    "        self.__clsName = kw.pop('clsName', 'dict')\n",
    "        self.__store = writable(kw)\n",
    "    def __call__(self): return self.__store()\n",
    "    def __repr__(self) -> str:\n",
    "        return f\"{self.__store}\".replace('dict', str(self.__clsName))\n",
    "    def __str__(self) -> str:\n",
    "        return str(self.__store)\n",
    "    def __getattr__(self, k:str):\n",
    "        try:\n",
    "            return self.__store.get()[k]\n",
    "        except:\n",
    "            raise AttributeError(k)\n",
    "    def __setattr__(self, k:str,v) -> None:\n",
    "        if f'_{self.__class__.__name__}_' in k: super().__setattr__(k,v)\n",
    "        else: self.__store.set(self.__store.get() | {k:v})\n",
    "    def subscribe(self, callback:Subscriber) -> Unsubscriber:\n",
    "        return self.__store.subscribe(callback)\n",
    "    def set(self, v) -> None: return self.__store.set(v)\n",
    "    def update(self, fn) -> None: return self.__store.update(fn)"
   ]
  },
  {
   "cell_type": "code",
   "execution_count": 13,
   "metadata": {},
   "outputs": [
    {
     "data": {
      "text/plain": [
       "\"w<0> $dict: {'a': 1, 'b': 2, 'c': 'foo'}\""
      ]
     },
     "execution_count": 13,
     "metadata": {},
     "output_type": "execute_result"
    }
   ],
   "source": [
    "obj = Mutable(a=1,b=2, c='foo')\n",
    "str(obj)"
   ]
  },
  {
   "cell_type": "code",
   "execution_count": 14,
   "metadata": {},
   "outputs": [
    {
     "name": "stdout",
     "output_type": "stream",
     "text": [
      "callback 1: {'a': 1, 'b': 2, 'c': 'foo'}\n",
      "callback 1: {'a': 1, 'b': 3, 'c': 'foo'}\n"
     ]
    },
    {
     "data": {
      "text/plain": [
       "{'a': 1, 'b': 3, 'c': 'foo'}"
      ]
     },
     "execution_count": 14,
     "metadata": {},
     "output_type": "execute_result"
    }
   ],
   "source": [
    "stop = obj.subscribe(lambda x: print(f'callback 1: {x}'))\n",
    "obj.b=3\n",
    "stop()\n",
    "obj()"
   ]
  },
  {
   "cell_type": "code",
   "execution_count": 15,
   "metadata": {},
   "outputs": [],
   "source": [
    "class Base(dict):\n",
    "    def __init__(self, params, state, run, **kwds):\n",
    "        super(Base, self).__init__(params=params, state=state, run=run, **kwds)\n",
    "        self.__dict__ = self"
   ]
  },
  {
   "cell_type": "code",
   "execution_count": 16,
   "metadata": {},
   "outputs": [],
   "source": [
    "#|export\n",
    "def mutable(value):\n",
    "    return Mutable(**value, clsName=value.__class__.__name__)"
   ]
  },
  {
   "cell_type": "code",
   "execution_count": 17,
   "metadata": {},
   "outputs": [],
   "source": [
    "b = Base(params={'a':1}, state={'b':2}, run=lambda x: x)"
   ]
  },
  {
   "cell_type": "code",
   "execution_count": 18,
   "metadata": {},
   "outputs": [
    {
     "data": {
      "text/plain": [
       "w<0> $Base: {'params': {'a': 1}, 'state': {'b': 2}, 'run': <function <lambda> at 0x7f9d2a9eff70>}"
      ]
     },
     "execution_count": 18,
     "metadata": {},
     "output_type": "execute_result"
    }
   ],
   "source": [
    "sb = mutable(b)\n",
    "sb"
   ]
  },
  {
   "cell_type": "code",
   "execution_count": 19,
   "metadata": {},
   "outputs": [],
   "source": [
    "#| hide\n",
    "import nbdev; nbdev.nbdev_export()"
   ]
  },
  {
   "cell_type": "code",
   "execution_count": null,
   "metadata": {},
   "outputs": [],
   "source": []
  }
 ],
 "metadata": {
  "kernelspec": {
   "display_name": "python3",
   "language": "python",
   "name": "python3"
  },
  "language_info": {
   "codemirror_mode": {
    "name": "ipython",
    "version": 3
   },
   "file_extension": ".py",
   "mimetype": "text/x-python",
   "name": "python",
   "nbconvert_exporter": "python",
   "pygments_lexer": "ipython3",
   "version": "3.9.15"
  }
 },
 "nbformat": 4,
 "nbformat_minor": 4
}
