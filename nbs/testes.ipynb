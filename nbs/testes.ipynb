{
 "cells": [
  {
   "cell_type": "code",
   "execution_count": 7,
   "metadata": {},
   "outputs": [
    {
     "name": "stdout",
     "output_type": "stream",
     "text": [
      "<method-wrapper '__setattr__' of Child object at 0x7fcdbadd2310>\n",
      "<method-wrapper '__setattr__' of Child object at 0x7fcdbadd2310>\n"
     ]
    }
   ],
   "source": [
    "from functools import wraps\n",
    "from sveltish.stores import Writable\n",
    "\n",
    "def stored(f):\n",
    "    @wraps(f)\n",
    "    def wrapper(o, *args, **kwds):\n",
    "        o_set = o.__setattr__\n",
    "        def my_set(*args, **kwargs):\n",
    "            print(\"my_set\", args, kwargs)\n",
    "            o_set(*args, **kwargs)\n",
    "        print(o.__setattr__)\n",
    "        # store = Writable(o.__dict__)\n",
    "        # u = store.subscribe(lambda x: print(f\"stored_callback: {x}\"))\n",
    "        f(o, *args, **kwds)\n",
    "        # u()\n",
    "    return wrapper\n",
    "\n",
    "class Child:\n",
    "\n",
    "    @stored\n",
    "    def do_something(self, x, y, *args, **kwargs):\n",
    "        self.x = x\n",
    "        self.y = y\n",
    "        z = x + y\n",
    "        def g(t):\n",
    "            z = 3\n",
    "            u = t\n",
    "            def h(z):\n",
    "                a = z\n",
    "            h(u)\n",
    "        g(z)\n",
    "\n",
    "c = Child()\n",
    "c.do_something(1,2,3, a=1, b=2)\n",
    "c.do_something(1,2,3, a=1, b=2)"
   ]
  },
  {
   "cell_type": "code",
   "execution_count": null,
   "metadata": {},
   "outputs": [],
   "source": []
  },
  {
   "cell_type": "code",
   "execution_count": null,
   "metadata": {},
   "outputs": [],
   "source": []
  }
 ],
 "metadata": {
  "kernelspec": {
   "display_name": "jaxai2",
   "language": "python",
   "name": "python3"
  },
  "language_info": {
   "codemirror_mode": {
    "name": "ipython",
    "version": 3
   },
   "file_extension": ".py",
   "mimetype": "text/x-python",
   "name": "python",
   "nbconvert_exporter": "python",
   "pygments_lexer": "ipython3",
   "version": "3.9.15"
  },
  "orig_nbformat": 4
 },
 "nbformat": 4,
 "nbformat_minor": 2
}
