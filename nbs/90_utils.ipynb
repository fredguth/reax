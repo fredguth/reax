{
 "cells": [
  {
   "attachments": {},
   "cell_type": "markdown",
   "metadata": {},
   "source": [
    "# utils\n",
    "\n",
    "> Fill in a module description here"
   ]
  },
  {
   "cell_type": "code",
   "execution_count": null,
   "metadata": {},
   "outputs": [],
   "source": [
    "#|default_exp utils"
   ]
  },
  {
   "cell_type": "code",
   "execution_count": null,
   "metadata": {},
   "outputs": [
    {
     "name": "stdout",
     "output_type": "stream",
     "text": [
      "env: XLA_PYTHON_CLIENT_MEM_FRACTION=0.2\n"
     ]
    }
   ],
   "source": [
    "%env XLA_PYTHON_CLIENT_MEM_FRACTION=0.2"
   ]
  },
  {
   "cell_type": "code",
   "execution_count": null,
   "metadata": {},
   "outputs": [],
   "source": [
    "#|export\n",
    "from collections import defaultdict\n",
    "\n",
    "import yaml\n",
    "import jax\n",
    "import jax.numpy as jnp\n",
    "import numpy as np"
   ]
  },
  {
   "cell_type": "code",
   "execution_count": null,
   "metadata": {},
   "outputs": [
    {
     "data": {
      "text/plain": [
       "'gpu'"
      ]
     },
     "execution_count": null,
     "metadata": {},
     "output_type": "execute_result"
    }
   ],
   "source": [
    "jax.default_backend()"
   ]
  },
  {
   "attachments": {},
   "cell_type": "markdown",
   "metadata": {},
   "source": [
    "From `lovely-numpy`: https://github.com/xl0/lovely-numpy/blob/master/nbs/03_utils.utils.ipynb"
   ]
  },
  {
   "cell_type": "code",
   "execution_count": null,
   "metadata": {},
   "outputs": [],
   "source": [
    "#|export\n",
    "def sci_mode(f: float):\n",
    "    return ((abs(f) < 10**-4) or\n",
    "            (abs(f) > 10**3))\n",
    "\n",
    "def pretty_str(x):\n",
    "    \"\"\"A slightly better way to print `float`-y values.\n",
    "    Works for `np.ndarray`, `torch.Tensor`, `jax.DeviceArray`, and scalars.\"\"\"\n",
    "\n",
    "    if isinstance(x, int):\n",
    "        return '{}'.format(x)\n",
    "    elif isinstance(x, float):\n",
    "        if x == 0.:\n",
    "            return \"0.\"\n",
    "\n",
    "        sci = sci_mode(x)\n",
    "        fmt = f\"{{:.3{'e' if sci else 'f'}}}\"\n",
    "\n",
    "        return fmt.format(x)\n",
    "    elif x.ndim == 0:\n",
    "            return pretty_str(x.item())\n",
    "    else:\n",
    "        slices = [pretty_str(x[i]) for i in range(0, x.shape[0])]\n",
    "        return '[' + \", \".join(slices) + ']'\n",
    "\n",
    "def sparse_join(lst, sep=\" \"):\n",
    "    # Join non-empty list elements into a space-separated string\n",
    "    return sep.join( [ l for l in lst if l] )\n",
    "\n",
    "def ansi_color(s: str, col: str, use_color=True):\n",
    "        \"Very minimal ANSI color support\"\n",
    "        style = defaultdict(str)\n",
    "        style[\"grey\"] = \"\\x1b[38;2;127;127;127m\"\n",
    "        style[\"red\"] = \"\\x1b[31m\"\n",
    "        end_style = \"\\x1b[0m\"\n",
    "        return style[col]+s+end_style if use_color else s"
   ]
  },
  {
   "cell_type": "code",
   "execution_count": null,
   "metadata": {},
   "outputs": [],
   "source": [
    "# |export\n",
    "def to_str(\n",
    "    x,              # Input\n",
    "    color=True ,    # ANSI color highlighting  \n",
    "    ddof=0          # For \"std\" unbiasing\n",
    "    ):\n",
    "    x = np.array(x)  # in jnp the code breaks, see https://github.com/google/jax/issues/14721\n",
    "    if x.size == 0:\n",
    "        return ansi_color(\"empty\", \"grey\", color)\n",
    "\n",
    "    zeros = ansi_color(\"all_zeros\", \"grey\", color) if np.equal(x, 0.0).all() and x.size > 1 else None\n",
    "    pinf = ansi_color(\"+Inf!\", \"red\", color) if np.isposinf(x).any() else None\n",
    "    ninf = ansi_color(\"-Inf!\", \"red\", color) if np.isneginf(x).any() else None\n",
    "    nan = ansi_color(\"NaN!\", \"red\", color) if np.isnan(x).any() else None\n",
    "\n",
    "    attention = sparse_join([zeros, pinf, ninf, nan])\n",
    "    summary = None\n",
    "    if not zeros:\n",
    "        # Calculate stats on good values only.\n",
    "        gx = x[np.isfinite(x)]\n",
    "        minmax = f\"x∈[{pretty_str(gx.min())}, {pretty_str(gx.max())}]\" if gx.size > 2 else None\n",
    "        meanstd = f\"μ={pretty_str(gx.mean())} σ={pretty_str(gx.std(ddof=ddof))}\" if gx.size >= 2 else None\n",
    "        summary = sparse_join([minmax, meanstd])\n",
    "\n",
    "    return sparse_join([summary, attention])\n"
   ]
  },
  {
   "cell_type": "code",
   "execution_count": null,
   "metadata": {},
   "outputs": [
    {
     "data": {
      "text/plain": [
       "'\\x1b[38;2;127;127;127mall_zeros\\x1b[0m'"
      ]
     },
     "execution_count": null,
     "metadata": {},
     "output_type": "execute_result"
    }
   ],
   "source": [
    "to_str(jnp.array([[0.],[0.]]))"
   ]
  },
  {
   "cell_type": "code",
   "execution_count": null,
   "metadata": {},
   "outputs": [
    {
     "data": {
      "text/plain": [
       "'x∈[1.000, 4.000] μ=2.667 σ=1.247'"
      ]
     },
     "execution_count": null,
     "metadata": {},
     "output_type": "execute_result"
    }
   ],
   "source": [
    "to_str(jnp.array([[1.],[4.],[3.]]))"
   ]
  },
  {
   "cell_type": "code",
   "execution_count": null,
   "metadata": {},
   "outputs": [],
   "source": [
    "#|export\n",
    "def str_tree(tree):\n",
    "    leaves, treedef = jax.tree_util.tree_flatten(tree)\n",
    "    strs = [to_str(l, color=False) for l in leaves]\n",
    "    ptree = jax.tree_util.tree_unflatten(treedef, strs)\n",
    "    return yaml.dump(ptree, indent=2, allow_unicode=True)"
   ]
  },
  {
   "cell_type": "code",
   "execution_count": null,
   "metadata": {},
   "outputs": [],
   "source": [
    "#|hide\n",
    "import nbdev;\n",
    "nbdev.nbdev_export()"
   ]
  },
  {
   "cell_type": "code",
   "execution_count": null,
   "metadata": {},
   "outputs": [],
   "source": []
  }
 ],
 "metadata": {
  "kernelspec": {
   "display_name": "python3",
   "language": "python",
   "name": "python3"
  }
 },
 "nbformat": 4,
 "nbformat_minor": 4
}
