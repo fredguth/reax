{
 "cells": [
  {
   "cell_type": "markdown",
   "metadata": {},
   "source": [
    "# stores\n",
    "\n",
    "> The `Reax` stores implementation became its own package, [Sveltish](fredguth.github.io/sveltish).  It is better documented ther, but I kept a copy here to make it easier to follow along."
   ]
  },
  {
   "cell_type": "code",
   "execution_count": 1,
   "metadata": {},
   "outputs": [
    {
     "name": "stdout",
     "output_type": "stream",
     "text": [
      "env: XLA_PYTHON_CLIENT_MEM_FRACTION=0.2\n"
     ]
    }
   ],
   "source": [
    "#|hide\n",
    "%env XLA_PYTHON_CLIENT_MEM_FRACTION=0.2\n",
    "%load_ext autoreload\n",
    "%autoreload 2"
   ]
  },
  {
   "cell_type": "code",
   "execution_count": 2,
   "metadata": {},
   "outputs": [],
   "source": [
    "#|hide\n",
    "import nbdev"
   ]
  },
  {
   "cell_type": "code",
   "execution_count": 3,
   "metadata": {},
   "outputs": [],
   "source": [
    "#| default_exp stores"
   ]
  },
  {
   "cell_type": "code",
   "execution_count": 4,
   "metadata": {},
   "outputs": [],
   "source": [
    "#|export\n",
    "from __future__ import annotations\n",
    "from typing import Callable, TypeVar,  Generic, Union, Optional, Set, Protocol, Any, NamedTuple\n",
    "from typing_extensions import Annotated\n",
    "from fastcore.test import test_eq, test, test_fail\n",
    "from fastcore.basics import patch"
   ]
  },
  {
   "cell_type": "code",
   "execution_count": 5,
   "metadata": {},
   "outputs": [
    {
     "data": {
      "text/plain": [
       "user(id=1, name='Bob')"
      ]
     },
     "execution_count": 5,
     "metadata": {},
     "output_type": "execute_result"
    }
   ],
   "source": [
    "user = NamedTuple('user', [('id', int), ('name', str)])(id=1, name='Bob')\n",
    "user == (1, 'Bob')\n",
    "# user = (2, 'Bob')\n",
    "# user == (2, '')\n",
    "user"
   ]
  },
  {
   "cell_type": "code",
   "execution_count": 6,
   "metadata": {},
   "outputs": [],
   "source": [
    "#| export\n",
    "def safe_not_equal(a,b):\n",
    "    \"Check if `a` is not equal to `b`\"\n",
    "    primitive = (int, str, bool, frozenset, tuple)\n",
    "    return (a != b) if isinstance(a, primitive) else True\n",
    "\n",
    "T = TypeVar(\"T\")\n",
    "covT = TypeVar(\"covT\", covariant=True)\n",
    "Subscriber = Callable[[T], None] # a callback\n",
    "Unsubscriber = Callable[[], None] # a callback to be used upon termination of the subscription    \n",
    "Updater = Callable[[T], T] \n",
    "Notifier = Callable[[Subscriber], Union[Unsubscriber, None]] # function called when the first subscriber is added\n",
    "\n",
    "class StoreProtocol(Protocol, Generic[covT]):\n",
    "    ''' The Svelte Store ~~contract~~ protocol. '''\n",
    "    def subscribe(self, subscriber: Subscriber[T]) -> Unsubscriber: ...\n",
    "\n",
    "class Store(StoreProtocol[T]):\n",
    "    ''' A base class for all stores.'''\n",
    "    value: T\n",
    "    subscribers: Set[Subscriber]\n",
    "    def __init__(self, /, **kwargs): \n",
    "        self.__dict__.update(kwargs) # see SimpleNamespace: https://docs.python.org/3/library/types.html\n",
    "    def __repr__(self) -> str:\n",
    "        return f\"{self.__class__.__name__}({self.get()!r})\"\n",
    "    def subscribe(self, callback: Subscriber) -> Unsubscriber:\n",
    "        return lambda: None\n",
    "    def get(self) -> T: return self.value\n",
    "\n",
    "class Readable(Store[T]): pass\n",
    "\n",
    "class Writable(Store[T]):\n",
    "    set: Subscriber\n",
    "    update: Optional[Callable[[Updater],None]] = None\n"
   ]
  },
  {
   "cell_type": "code",
   "execution_count": 7,
   "metadata": {},
   "outputs": [],
   "source": [
    "#| export\n",
    "\n",
    "class Writable(Store[T]):\n",
    "    ''' A Writable Store.'''\n",
    "    def __init__(self:Writable,\n",
    "                initial_value: Any = None, # initial value of the store\n",
    "                start: Notifier = lambda x: None # A Notifier (Optional)\n",
    "                ) -> None:\n",
    "        self.value = initial_value\n",
    "        self.subscribers: Set[Subscriber] = set() # callbacks to be called when the value changes\n",
    "        self.start: Notifier = start # function called when the first subscriber is added\n",
    "        self.stop: Optional[Unsubscriber] = None  # functional called when the last subscriber is removed\n",
    "    def subscribe(self:Writable,\n",
    "                  callback: Subscriber # callback to be called when the store value changes\n",
    "                  ) -> Unsubscriber:\n",
    "        ''' Adds callback to the list of subscribers.'''\n",
    "        self.subscribers.add(callback)\n",
    "        if (len(self.subscribers) == 1):\n",
    "            self.stop = self.start(self.__set) or (lambda: None) #type: ignore\n",
    "        callback(self.value)\n",
    "\n",
    "        def unsubscribe() -> None:\n",
    "            ''' Removes callback from the list of subscribers.'''\n",
    "            self.subscribers.remove(callback) if callback in self.subscribers else None\n",
    "            if (len(self.subscribers) == 0):\n",
    "                self.stop() if self.stop else None #type: ignore\n",
    "                self.stop = None #type: ignore\n",
    "        return unsubscribe\n",
    "    def __set(self,\n",
    "                new_value: T # The new value of the store\n",
    "            ) -> None:\n",
    "        ''' Internal implementation of set used inside Readable Store, which does not exposes set.'''\n",
    "        if (safe_not_equal(self.value, new_value)):\n",
    "            self.value = new_value\n",
    "            for subscriber in self.subscribers:\n",
    "                subscriber(new_value)\n",
    "    def set(self,\n",
    "                new_value: T # The new value of the store\n",
    "            ) -> None:\n",
    "        ''' Set value of store.'''\n",
    "        self.__set(new_value)\n",
    "\n",
    "    def update(self,\n",
    "                   fn: Callable[[T], T] # a callback that takes the existing store value and updates it\n",
    "               ) -> None:\n",
    "        ''' Update the store value by applying `fn` to the existing value.'''\n",
    "        self.set(fn(self.value))\n",
    "\n",
    "    def __len__(self) -> int:\n",
    "        ''' The length of the store is the number of subscribers.'''\n",
    "        return len(self.subscribers)\n",
    "\n",
    "class Readable(Writable[T]):\n",
    "    ''' A Readable Store.'''\n",
    "    def __init__(self,\n",
    "                     initial_value: T, # initial value of the store\n",
    "                 start: Notifier # function called when the first subscriber is added\n",
    "                ) -> None:\n",
    "        super().__init__(initial_value, start)\n",
    "    def set(self, *args, **kwargs): raise Exception(\"Cannot set a Readable Store.\")\n",
    "    def update(self, *args, **kwargs): raise Exception(\"Cannot update a Readable Store.\")\n",
    "\n",
    "\n",
    "class Derived(Writable):\n",
    "    ''' A Derived Store.'''\n",
    "    def __init__(self:Derived,\n",
    "                 s: Union[Store, list[Store]], # source store(s)\n",
    "                 fn: Callable, # a callback that takes the source store(s) values and returns the derived value\n",
    "             ) -> None:\n",
    "        isStore = isinstance(s, Store)\n",
    "        isList = isinstance(s, list) and all([isinstance(x, Store) for x in s])\n",
    "        if not isStore and not isList: raise Exception(\"s must be a Store or a list of Stores\")\n",
    "        self.sources:list[Store] = [s] if isStore else s\n",
    "        self.fn = fn\n",
    "        def start(set_fn: Subscriber):\n",
    "            self.__sync(None) # sync target with source values, they can have changed since Derived creation\n",
    "            # because of this update, the derived subscribers will be called twice on subscription\n",
    "            unsubscribers = [(lambda s=s: s.subscribe(self.__sync))(s) for s in self.sources]\n",
    "            def stop():\n",
    "                for unsubscribe in unsubscribers: unsubscribe()\n",
    "            return stop\n",
    "        self.target = Writable(fn(*[(lambda s=s: s.get())(s) for s in self.sources]), start)\n",
    "\n",
    "    def get(self): return self.target.get()\n",
    "\n",
    "    def set(self, *args, **kwargs): raise Exception(\"Cannot set a Derived Store.\")\n",
    "    def update(self, *args, **kwargs): raise Exception(\"Cannot update a Derived Store.\")\n",
    "\n",
    "    def subscribe(self,\n",
    "                  callback: Subscriber # callback to be called when any of the source stores change\n",
    "                  ) -> Unsubscriber:\n",
    "        ''' Adds callback to the list of subscribers.'''\n",
    "        return self.target.subscribe(callback)\n",
    "\n",
    "    def __sync(self:Derived, x): # ignore the new value and just refresh the target from sources\n",
    "        values = [(lambda s=s: s.get())(s) for s in self.sources] # type: ignore\n",
    "        self.target.set(self.fn(*values)) # type: ignore\n"
   ]
  },
  {
   "cell_type": "code",
   "execution_count": 8,
   "metadata": {},
   "outputs": [],
   "source": [
    "#|hide\n",
    "nbdev.nbdev_export()"
   ]
  }
 ],
 "metadata": {
  "kernelspec": {
   "display_name": "python3",
   "language": "python",
   "name": "python3"
  },
  "language_info": {
   "codemirror_mode": {
    "name": "ipython",
    "version": 3
   },
   "file_extension": ".py",
   "mimetype": "text/x-python",
   "name": "python",
   "nbconvert_exporter": "python",
   "pygments_lexer": "ipython3",
   "version": "3.9.15"
  }
 },
 "nbformat": 4,
 "nbformat_minor": 2
}
